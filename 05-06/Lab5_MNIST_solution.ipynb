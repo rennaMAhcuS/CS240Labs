{
 "cells": [
  {
   "cell_type": "code",
   "execution_count": 15,
   "id": "be39a7c0",
   "metadata": {},
   "outputs": [],
   "source": [
    "import numpy as np\n",
    "import pandas as pd\n",
    "import matplotlib.pyplot as plt"
   ]
  },
  {
   "cell_type": "markdown",
   "id": "788df82a",
   "metadata": {},
   "source": [
    "#### MNIST dataset"
   ]
  },
  {
   "cell_type": "code",
   "execution_count": 16,
   "id": "a98e5018",
   "metadata": {},
   "outputs": [],
   "source": [
    "# Function to one-hot encode the target variable into the 10 classes (0-9)\n",
    "# Input shape: (N,),    Output: (N, 10)\n",
    "def one_hot(Y):\n",
    "    one_hot_Y = np.zeros((Y.size, 10))\n",
    "    one_hot_Y[np.arange(Y.size), Y] = 1\n",
    "    return one_hot_Y"
   ]
  },
  {
   "cell_type": "code",
   "execution_count": 17,
   "id": "ae75c227",
   "metadata": {},
   "outputs": [],
   "source": [
    "train_data=pd.read_csv(r\"./mnist_train.csv\")\n",
    "test_data=pd.read_csv(r\"./mnist_test.csv\")\n",
    "\n",
    "train_data=train_data.to_numpy()    # train_data shape: (60000, 785)\n",
    "m, n = train_data.shape\n",
    "test_data=test_data.to_numpy()      # test_data shape: (10000, 785)\n",
    "\n",
    "X_train=train_data[:,1:]            # X_train shape: (60000, 784)\n",
    "y_train=train_data[:,0]             # y_train shape: (60000,)\n",
    "X_test=test_data[:,1:]              # X_test shape: (10000, 784)\n",
    "y_test=test_data[:,0]               # y_test shape: (10000,)\n",
    "\n",
    "X_train = X_train / 255.0           # Normalizing the data\n",
    "X_test = X_test / 255.0\n",
    "X_test = X_test.T                   # X_test shape: (784, 10000)\n",
    "X_train = X_train.T                 # X_train shape: (784, 60000)\n",
    "\n",
    "# one_hot_y_train = one_hot(y_train)  # one_hot_y_train shape: (60000, 10)\n",
    "# one_hot_y_test = one_hot(y_test)    # one_hot_y_test shape: (10000, 10)"
   ]
  },
  {
   "cell_type": "code",
   "execution_count": 18,
   "id": "ced96caa",
   "metadata": {},
   "outputs": [],
   "source": [
    "# Function to initialize the parameters with random values\n",
    "def init_params():\n",
    "    w1=np.random.rand(20,784)-0.5   # w1 shape: (20, 784)\n",
    "    b1=np.random.rand(20,1)-0.5     # b1 shape: (20, 1)\n",
    "    w2=np.random.rand(10,20)-0.5    # w2 shape: (10, 20)\n",
    "    b2=np.random.rand(10,1)-0.5     # b2 shape: (10, 1)\n",
    "    w3=np.random.rand(10,10)-0.5    # w3 shape: (10, 10)\n",
    "    b3=np.random.rand(10,1)-0.5     # b3 shape: (10, 1)\n",
    "    return w1, b1, w2, b2"
   ]
  },
  {
   "cell_type": "code",
   "execution_count": 19,
   "id": "8a26a041",
   "metadata": {},
   "outputs": [],
   "source": [
    "# Activation functions and their derivatives\n",
    "def sigmoid(z):\n",
    "    # z = np.clip(z, -500, 500)\n",
    "    return 1/(1+np.exp(-z))\n",
    "\n",
    "def ReLU(Z):\n",
    "    return np.maximum(Z, 0)\n",
    "\n",
    "def softmax(Z):\n",
    "    Z_new = Z - np.max(Z, axis=0, keepdims=True)\n",
    "    A = np.exp(Z_new) / np.sum(np.exp(Z_new), axis=0, keepdims=True)\n",
    "    return A\n",
    "\n",
    "def deriv_ReLU(Z):\n",
    "    return Z>0\n",
    "\n",
    "def deriv_sigmoid(Z):\n",
    "    # print(Z.min(), Z.max())\n",
    "    return Z*(1-Z)\n",
    "\n",
    "# Loss function\n",
    "def cross_entropy_loss(Y, Y_hat):\n",
    "    return -np.mean(Y*np.log(Y_hat))"
   ]
  },
  {
   "cell_type": "code",
   "execution_count": 20,
   "id": "323f513b",
   "metadata": {},
   "outputs": [],
   "source": [
    "# Forward Propagation\n",
    "def forward_prop(w1, b1, w2, b2, X):\n",
    "    z1=w1.dot(X)+b1     # w1 shape: (20, 784),  b1.shape: (20, 1), z1 shape: (20, 60000)\n",
    "    a1=sigmoid(z1)      # a1 shape: (20, 60000)\n",
    "    z2=w2.dot(a1)+b2    # w2 shape: (10, 20),   b2.shape: (10, 1), z2 shape: (10, 60000)\n",
    "    a2=softmax(z2)      # a2 shape: (10, 60000)\n",
    "    return z1, a1, z2, a2"
   ]
  },
  {
   "cell_type": "code",
   "execution_count": 21,
   "id": "7fc227b0",
   "metadata": {},
   "outputs": [],
   "source": [
    "# Backward Propagation\n",
    "def back_prop(z1, a1, z2, a2, w2, Y, X, loss=\"ce\"):\n",
    "    OneHot_Y=one_hot(Y).T\n",
    "    if loss == \"ce\":\n",
    "        dZ2=(a2-OneHot_Y) / m\n",
    "    elif loss == \"tss\":\n",
    "        dZ2=(a2-OneHot_Y)*a2*(1-a2) / m\n",
    "    dW2=dZ2.dot(a1.T)\n",
    "    db2=np.sum(dZ2, axis=1, keepdims=True)\n",
    "    dZ1=w2.T.dot(dZ2)*deriv_sigmoid(a1)\n",
    "    dW1=dZ1.dot(X.T)\n",
    "    db1=np.sum(dZ1, axis=1, keepdims=True)\n",
    "    return dW1, db1, dW2, db2"
   ]
  },
  {
   "cell_type": "code",
   "execution_count": 22,
   "id": "094277e6",
   "metadata": {},
   "outputs": [],
   "source": [
    "def update_params(W1, b1, W2, b2, dW1, db1, dW2, db2, alpha):\n",
    "    W1=W1-alpha*dW1\n",
    "    b1=b1-alpha*db1\n",
    "    W2=W2-alpha*dW2\n",
    "    b2=b2-alpha*db2\n",
    "    return W1, b1, W2, b2"
   ]
  },
  {
   "cell_type": "code",
   "execution_count": 23,
   "id": "7b671953",
   "metadata": {},
   "outputs": [],
   "source": [
    "# Functions to get predictions and accuracy\n",
    "def get_predictions(a2):\n",
    "    return np.argmax(a2,0)\n",
    "\n",
    "def get_accuracy(predictions, Y):\n",
    "    # print(predictions, Y)\n",
    "    return np.sum(predictions == Y)/Y.size"
   ]
  },
  {
   "cell_type": "code",
   "execution_count": 24,
   "id": "1efad1c0",
   "metadata": {},
   "outputs": [],
   "source": [
    "# Training the model\n",
    "def train(X, Y, iterations, alpha):\n",
    "    w1, b1, w2, b2=init_params()\n",
    "    for i in range(iterations):\n",
    "        z1, a1, z2, a2 =forward_prop(w1, b1, w2, b2, X)\n",
    "        dW1, db1, dW2, db2 = back_prop(z1, a1, z2, a2, w2, Y, X, \"ce\")\n",
    "        w1, b1, w2, b2 = update_params(w1, b1, w2, b2, dW1, db1, dW2, db2, alpha)\n",
    "        if i%10==0:\n",
    "            print(\"Iterations: \",i, end=\", \")\n",
    "            print(\"Accuracy: \",get_accuracy(get_predictions(a2),Y), end = \", \")\n",
    "            print(\"Loss: \",cross_entropy_loss(one_hot(Y).T, a2))\n",
    "    return w1, b1, w2, b2"
   ]
  },
  {
   "cell_type": "code",
   "execution_count": 25,
   "id": "5394c2b5",
   "metadata": {},
   "outputs": [
    {
     "name": "stdout",
     "output_type": "stream",
     "text": [
      "Iterations:  0, Accuracy:  0.09041666666666667, Loss:  0.2699774030163565\n",
      "Iterations:  10, Accuracy:  0.3720333333333333, Loss:  0.1967897195363271\n",
      "Iterations:  20, Accuracy:  0.5241833333333333, Loss:  0.16921759955157384\n",
      "Iterations:  30, Accuracy:  0.6143166666666666, Loss:  0.14658389793689328\n",
      "Iterations:  40, Accuracy:  0.6687666666666666, Loss:  0.12857382210676674\n",
      "Iterations:  50, Accuracy:  0.7062666666666667, Loss:  0.11441566370845624\n",
      "Iterations:  60, Accuracy:  0.7351166666666666, Loss:  0.1032492788230739\n",
      "Iterations:  70, Accuracy:  0.7583, Loss:  0.09432552178631749\n",
      "Iterations:  80, Accuracy:  0.77685, Loss:  0.08707748222222284\n",
      "Iterations:  90, Accuracy:  0.7909333333333334, Loss:  0.08109795035486639\n",
      "Iterations:  100, Accuracy:  0.80305, Loss:  0.07609426108142717\n",
      "Iterations:  110, Accuracy:  0.8128666666666666, Loss:  0.07185233511065844\n",
      "Iterations:  120, Accuracy:  0.8216666666666667, Loss:  0.06821306295820019\n",
      "Iterations:  130, Accuracy:  0.8293333333333334, Loss:  0.06505693227034438\n",
      "Iterations:  140, Accuracy:  0.8368333333333333, Loss:  0.06229343380721387\n",
      "Iterations:  150, Accuracy:  0.8424833333333334, Loss:  0.059853402888912166\n",
      "Iterations:  160, Accuracy:  0.84765, Loss:  0.057683389100774037\n",
      "Iterations:  170, Accuracy:  0.8525166666666667, Loss:  0.055741526553333594\n",
      "Iterations:  180, Accuracy:  0.8570333333333333, Loss:  0.05399452894256641\n",
      "Iterations:  190, Accuracy:  0.86065, Loss:  0.05241551838346637\n",
      "Iterations:  200, Accuracy:  0.8642, Loss:  0.050982461908430074\n",
      "Iterations:  210, Accuracy:  0.8669333333333333, Loss:  0.049677044193953884\n",
      "Iterations:  220, Accuracy:  0.8700833333333333, Loss:  0.04848385028297053\n",
      "Iterations:  230, Accuracy:  0.8727666666666667, Loss:  0.04738976763597055\n",
      "Iterations:  240, Accuracy:  0.87485, Loss:  0.04638354335583032\n",
      "Iterations:  250, Accuracy:  0.87705, Loss:  0.04545545138915193\n",
      "Iterations:  260, Accuracy:  0.8791, Loss:  0.044597037855968254\n",
      "Iterations:  270, Accuracy:  0.88135, Loss:  0.04380092213495094\n",
      "Iterations:  280, Accuracy:  0.8831, Loss:  0.043060638127046434\n",
      "Iterations:  290, Accuracy:  0.8842833333333333, Loss:  0.04237050496872625\n",
      "Iterations:  300, Accuracy:  0.8855833333333333, Loss:  0.04172551985182788\n",
      "Iterations:  310, Accuracy:  0.88695, Loss:  0.04112126790705542\n",
      "Iterations:  320, Accuracy:  0.8880166666666667, Loss:  0.04055384563294605\n",
      "Iterations:  330, Accuracy:  0.8891666666666667, Loss:  0.04001979534753351\n",
      "Iterations:  340, Accuracy:  0.8903166666666666, Loss:  0.039516048788513086\n",
      "Iterations:  350, Accuracy:  0.8914166666666666, Loss:  0.039039878416316336\n",
      "Iterations:  360, Accuracy:  0.8925833333333333, Loss:  0.038588855266596764\n",
      "Iterations:  370, Accuracy:  0.89355, Loss:  0.03816081240659636\n",
      "Iterations:  380, Accuracy:  0.89445, Loss:  0.03775381320536229\n",
      "Iterations:  390, Accuracy:  0.89555, Loss:  0.03736612374943838\n",
      "Iterations:  400, Accuracy:  0.8964166666666666, Loss:  0.03699618883430804\n",
      "Iterations:  410, Accuracy:  0.8975166666666666, Loss:  0.03664261104386906\n",
      "Iterations:  420, Accuracy:  0.8983, Loss:  0.03630413249943644\n",
      "Iterations:  430, Accuracy:  0.8991, Loss:  0.03597961891866951\n",
      "Iterations:  440, Accuracy:  0.8996666666666666, Loss:  0.03566804567513134\n",
      "Iterations:  450, Accuracy:  0.9004833333333333, Loss:  0.035368485592201335\n",
      "Iterations:  460, Accuracy:  0.9012, Loss:  0.035080098241840656\n",
      "Iterations:  470, Accuracy:  0.9017833333333334, Loss:  0.0348021205501441\n",
      "Iterations:  480, Accuracy:  0.9024166666666666, Loss:  0.034533858538501175\n",
      "Iterations:  490, Accuracy:  0.9032333333333333, Loss:  0.034274680052221985\n",
      "Iterations:  500, Accuracy:  0.9037666666666667, Loss:  0.03402400834827846\n",
      "Iterations:  510, Accuracy:  0.9042333333333333, Loss:  0.03378131643088431\n",
      "Iterations:  520, Accuracy:  0.9047166666666666, Loss:  0.033546122038434996\n",
      "Iterations:  530, Accuracy:  0.9052, Loss:  0.03331798319820571\n",
      "Iterations:  540, Accuracy:  0.9057833333333334, Loss:  0.03309649427644806\n",
      "Iterations:  550, Accuracy:  0.9063666666666667, Loss:  0.03288128246135836\n",
      "Iterations:  560, Accuracy:  0.9069833333333334, Loss:  0.03267200462498396\n",
      "Iterations:  570, Accuracy:  0.90745, Loss:  0.03246834451762352\n",
      "Iterations:  580, Accuracy:  0.9079, Loss:  0.0322700102547763\n",
      "Iterations:  590, Accuracy:  0.9084666666666666, Loss:  0.0320767320622976\n"
     ]
    }
   ],
   "source": [
    "w1, b1, w2, b2 = train(X_train, y_train, 600, 0.6)"
   ]
  },
  {
   "cell_type": "code",
   "execution_count": 26,
   "id": "97d80641",
   "metadata": {},
   "outputs": [],
   "source": [
    "def make_predictions(X, W1, b1, W2, b2):\n",
    "    _, _, _, A2 = forward_prop(W1, b1, W2, b2, X)\n",
    "    predictions = get_predictions(A2)\n",
    "    return predictions\n",
    "\n",
    "def test_prediction(index, W1, b1, W2, b2):\n",
    "    current_image = X_train[:, index, None]\n",
    "    prediction = make_predictions(X_train[:, index, None], W1, b1, W2, b2)\n",
    "    label = y_train[index]\n",
    "    print(\"Prediction: \", prediction)\n",
    "    print(\"Label: \", label)\n",
    "    \n",
    "    current_image = current_image.reshape((28, 28)) * 255\n",
    "    plt.gray()\n",
    "    plt.imshow(current_image, interpolation='nearest')\n",
    "    plt.show()"
   ]
  },
  {
   "cell_type": "code",
   "execution_count": 27,
   "id": "7b1dc166",
   "metadata": {},
   "outputs": [
    {
     "name": "stdout",
     "output_type": "stream",
     "text": [
      "Prediction:  [5]\n",
      "Label:  5\n"
     ]
    },
    {
     "data": {
      "image/png": "[encoded data removed]",
      "text/plain": [
       "<Figure size 640x480 with 1 Axes>"
      ]
     },
     "metadata": {},
     "output_type": "display_data"
    }
   ],
   "source": [
    "test_prediction(0, w1, b1, w2, b2)"
   ]
  },
  {
   "cell_type": "code",
   "execution_count": 28,
   "id": "eadb907f",
   "metadata": {},
   "outputs": [
    {
     "data": {
      "text/plain": [
       "0.9108"
      ]
     },
     "execution_count": 28,
     "metadata": {},
     "output_type": "execute_result"
    }
   ],
   "source": [
    "test_predictions = make_predictions(X_test, w1, b1, w2, b2)\n",
    "get_accuracy(test_predictions, y_test)"
   ]
  }
 ],
 "metadata": {
  "kernelspec": {
   "display_name": "Python 3",
   "language": "python",
   "name": "python3"
  },
  "language_info": {
   "codemirror_mode": {
    "name": "ipython",
    "version": 3
   },
   "file_extension": ".py",
   "mimetype": "text/x-python",
   "name": "python",
   "nbconvert_exporter": "python",
   "pygments_lexer": "ipython3",
   "version": "3.11.4"
  }
 },
 "nbformat": 4,
 "nbformat_minor": 5
}
