{
 "cells": [
  {
   "cell_type": "code",
   "execution_count": null,
   "id": "524450c2",
   "metadata": {},
   "outputs": [
    {
     "name": "stderr",
     "output_type": "stream",
     "text": [
      "[nltk_data] Downloading package brown to /Users/emsr/nltk_data...\n",
      "[nltk_data]   Package brown is already up-to-date!\n",
      "[nltk_data] Downloading package universal_tagset to\n",
      "[nltk_data]     /Users/emsr/nltk_data...\n",
      "[nltk_data]   Package universal_tagset is already up-to-date!\n"
     ]
    }
   ],
   "source": [
    "import nltk\n",
    "\n",
    "# Download the Brown corpus and the universal tagset\n",
    "nltk.download(\"brown\")\n",
    "nltk.download(\"universal_tagset\")\n",
    "# Get the tagged sentences from the Brown corpus\n",
    "tagged_sentences = list(nltk.corpus.brown.tagged_sents(tagset=\"universal\"))\n",
    "# The words converted to lower format\n",
    "tagged_sentences_lower = [\n",
    "    [(word.lower(), tag) for word, tag in sentence] for sentence in tagged_sentences\n",
    "]"
   ]
  },
  {
   "cell_type": "code",
   "execution_count": null,
   "id": "d7447f71",
   "metadata": {},
   "outputs": [],
   "source": [
    "pos = [\n",
    "    \"ADJ\",\n",
    "    \"ADP\",\n",
    "    \"ADV\",\n",
    "    \"CONJ\",\n",
    "    \"DET\",\n",
    "    \"NOUN\",\n",
    "    \"NUM\",\n",
    "    \"PRON\",\n",
    "    \"PRT\",\n",
    "    \"VERB\",\n",
    "    \".\",\n",
    "    \"X\",\n",
    "    \"START\",\n",
    "    \"END\",\n",
    "]"
   ]
  },
  {
   "cell_type": "code",
   "execution_count": null,
   "id": "a539cd00",
   "metadata": {},
   "outputs": [],
   "source": [
    "class HiddenMarkov:\n",
    "    def __init__(self):\n",
    "        pass"
   ]
  }
 ],
 "metadata": {
  "kernelspec": {
   "display_name": "base",
   "language": "python",
   "name": "python3"
  },
  "language_info": {
   "codemirror_mode": {
    "name": "ipython",
    "version": 3
   },
   "file_extension": ".py",
   "mimetype": "text/x-python",
   "name": "python",
   "nbconvert_exporter": "python",
   "pygments_lexer": "ipython3",
   "version": "3.12.7"
  }
 },
 "nbformat": 4,
 "nbformat_minor": 5
}
