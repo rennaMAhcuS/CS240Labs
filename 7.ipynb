{
 "cells": [
  {
   "cell_type": "markdown",
   "metadata": {},
   "source": [
    "Imports"
   ]
  },
  {
   "cell_type": "code",
   "execution_count": 11,
   "metadata": {},
   "outputs": [],
   "source": [
    "import numpy as np\n",
    "import pandas as pd\n",
    "from sklearn.metrics import classification_report\n",
    "from sklearn.svm import SVC"
   ]
  },
  {
   "cell_type": "markdown",
   "metadata": {},
   "source": [
    "Data pre processing "
   ]
  },
  {
   "cell_type": "code",
   "execution_count": 12,
   "metadata": {},
   "outputs": [],
   "source": [
    "train_data=pd.read_csv(r\"./mnist_train.csv\")\n",
    "test_data=pd.read_csv(r\"./mnist_test.csv\")\n",
    "\n",
    "train_data=train_data.to_numpy()    # train_data shape: (60000, 785)\n",
    "m, n = train_data.shape\n",
    "test_data=test_data.to_numpy()      # test_data shape: (10000, 785)\n",
    "\n",
    "X_train=train_data[:,1:]            # X_train shape: (60000, 784)\n",
    "y_train=train_data[:,0]             # y_train shape: (60000,)\n",
    "X_test=test_data[:,1:]              # X_test shape: (10000, 784)\n",
    "y_test=test_data[:,0]               # y_test shape: (10000,)\n",
    "\n",
    "X_train = X_train / 255.0           # Normalizing the data\n",
    "X_test = X_test / 255.0"
   ]
  },
  {
   "cell_type": "markdown",
   "metadata": {},
   "source": [
    "Classifier Class that is used to do one vs all classification for each label (0 - 9)"
   ]
  },
  {
   "cell_type": "code",
   "execution_count": 13,
   "metadata": {},
   "outputs": [],
   "source": [
    "class Classifier :\n",
    "    def __init__(self, X_train : np.ndarray, y_train : np.ndarray, X_test : np.ndarray, y_test : np.ndarray, kernel=\"rbf\", C = 1.0):\n",
    "        # Store the data\n",
    "        self.X_train = X_train\n",
    "        self.y_train = y_train\n",
    "        self.X_test = X_test\n",
    "        self.y_test = y_test\n",
    "\n",
    "        # parameters of the svc model\n",
    "        self.C = C \n",
    "        self.kernel = kernel\n",
    "            \n",
    "    def classify(self, k : int):\n",
    "        # create the y_test and y_train\n",
    "        y_train_new = (self.y_train != k)*1\n",
    "        y_test_new  = (self.y_test != k)*1\n",
    "\n",
    "        svm = SVC(kernel=self.kernel, C=self.C, cache_size=1000)\n",
    "        svm.fit(X_train, y_train_new)\n",
    "\n",
    "        y_pred = svm.predict(X_test) \n",
    "        report = classification_report(y_true=y_test_new, y_pred=y_pred)\n",
    "        print(f\"Classifying the digit :: {k}\")\n",
    "        print(report)\n",
    "        \n",
    "        return \n",
    "    \n",
    "    def classify_all_digits(self):\n",
    "        for d in range(10):\n",
    "            self.classify(d) \n",
    "        return \n",
    "        "
   ]
  },
  {
   "cell_type": "markdown",
   "metadata": {},
   "source": [
    "Classify all digits and print the classification data like presision and f1-score"
   ]
  },
  {
   "cell_type": "code",
   "execution_count": 14,
   "metadata": {},
   "outputs": [
    {
     "name": "stdout",
     "output_type": "stream",
     "text": [
      "Classifying the digit :: 0\n",
      "              precision    recall  f1-score   support\n",
      "\n",
      "           0       0.99      0.98      0.99       980\n",
      "           1       1.00      1.00      1.00      9020\n",
      "\n",
      "    accuracy                           1.00     10000\n",
      "   macro avg       1.00      0.99      0.99     10000\n",
      "weighted avg       1.00      1.00      1.00     10000\n",
      "\n",
      "Classifying the digit :: 1\n",
      "              precision    recall  f1-score   support\n",
      "\n",
      "           0       1.00      0.99      0.99      1135\n",
      "           1       1.00      1.00      1.00      8865\n",
      "\n",
      "    accuracy                           1.00     10000\n",
      "   macro avg       1.00      0.99      1.00     10000\n",
      "weighted avg       1.00      1.00      1.00     10000\n",
      "\n",
      "Classifying the digit :: 2\n",
      "              precision    recall  f1-score   support\n",
      "\n",
      "           0       0.99      0.96      0.97      1032\n",
      "           1       1.00      1.00      1.00      8968\n",
      "\n",
      "    accuracy                           0.99     10000\n",
      "   macro avg       0.99      0.98      0.99     10000\n",
      "weighted avg       0.99      0.99      0.99     10000\n",
      "\n",
      "Classifying the digit :: 3\n",
      "              precision    recall  f1-score   support\n",
      "\n",
      "           0       0.99      0.97      0.98      1010\n",
      "           1       1.00      1.00      1.00      8990\n",
      "\n",
      "    accuracy                           1.00     10000\n",
      "   macro avg       0.99      0.98      0.99     10000\n",
      "weighted avg       1.00      1.00      1.00     10000\n",
      "\n",
      "Classifying the digit :: 4\n",
      "              precision    recall  f1-score   support\n",
      "\n",
      "           0       0.99      0.96      0.98       982\n",
      "           1       1.00      1.00      1.00      9018\n",
      "\n",
      "    accuracy                           1.00     10000\n",
      "   macro avg       0.99      0.98      0.99     10000\n",
      "weighted avg       1.00      1.00      1.00     10000\n",
      "\n",
      "Classifying the digit :: 5\n",
      "              precision    recall  f1-score   support\n",
      "\n",
      "           0       0.99      0.96      0.97       892\n",
      "           1       1.00      1.00      1.00      9108\n",
      "\n",
      "    accuracy                           1.00     10000\n",
      "   macro avg       0.99      0.98      0.99     10000\n",
      "weighted avg       1.00      1.00      1.00     10000\n",
      "\n",
      "Classifying the digit :: 6\n",
      "              precision    recall  f1-score   support\n",
      "\n",
      "           0       0.99      0.97      0.98       958\n",
      "           1       1.00      1.00      1.00      9042\n",
      "\n",
      "    accuracy                           1.00     10000\n",
      "   macro avg       0.99      0.99      0.99     10000\n",
      "weighted avg       1.00      1.00      1.00     10000\n",
      "\n",
      "Classifying the digit :: 7\n",
      "              precision    recall  f1-score   support\n",
      "\n",
      "           0       0.98      0.95      0.96      1028\n",
      "           1       0.99      1.00      1.00      8972\n",
      "\n",
      "    accuracy                           0.99     10000\n",
      "   macro avg       0.99      0.97      0.98     10000\n",
      "weighted avg       0.99      0.99      0.99     10000\n",
      "\n",
      "Classifying the digit :: 8\n",
      "              precision    recall  f1-score   support\n",
      "\n",
      "           0       0.98      0.95      0.97       974\n",
      "           1       1.00      1.00      1.00      9026\n",
      "\n",
      "    accuracy                           0.99     10000\n",
      "   macro avg       0.99      0.98      0.98     10000\n",
      "weighted avg       0.99      0.99      0.99     10000\n",
      "\n",
      "Classifying the digit :: 9\n",
      "              precision    recall  f1-score   support\n",
      "\n",
      "           0       0.98      0.93      0.96      1009\n",
      "           1       0.99      1.00      1.00      8991\n",
      "\n",
      "    accuracy                           0.99     10000\n",
      "   macro avg       0.99      0.97      0.98     10000\n",
      "weighted avg       0.99      0.99      0.99     10000\n",
      "\n"
     ]
    }
   ],
   "source": [
    "mnist_svm = Classifier(X_train, y_train, X_test, y_test)\n",
    "mnist_svm.classify_all_digits() "
   ]
  }
 ],
 "metadata": {
  "kernelspec": {
   "display_name": "Python 3",
   "language": "python",
   "name": "python3"
  },
  "language_info": {
   "codemirror_mode": {
    "name": "ipython",
    "version": 3
   },
   "file_extension": ".py",
   "mimetype": "text/x-python",
   "name": "python",
   "nbconvert_exporter": "python",
   "pygments_lexer": "ipython3",
   "version": "3.10.12"
  }
 },
 "nbformat": 4,
 "nbformat_minor": 2
}
