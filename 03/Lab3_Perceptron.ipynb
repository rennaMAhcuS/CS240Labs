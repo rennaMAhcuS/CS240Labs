{
 "cells": [
  {
   "cell_type": "code",
   "execution_count": null,
   "metadata": {},
   "outputs": [],
   "source": [
    "import numpy as np\n",
    "import matplotlib.pyplot as plt\n",
    "from utils import *"
   ]
  },
  {
   "cell_type": "code",
   "execution_count": null,
   "metadata": {},
   "outputs": [],
   "source": [
    "X = np.array([\n",
    "    [0, 0],\n",
    "    [0, 1],\n",
    "    [1, 0],\n",
    "    [1, 1]\n",
    "])\n",
    "\n",
    "# Change y according to the logic gate you want\n",
    "y = np.array([[0],\n",
    "              [1],\n",
    "              [1],\n",
    "              [1]])"
   ]
  },
  {
   "cell_type": "code",
   "execution_count": null,
   "metadata": {},
   "outputs": [],
   "source": [
    "plot_points(X, y)"
   ]
  },
  {
   "cell_type": "code",
   "execution_count": null,
   "metadata": {},
   "outputs": [],
   "source": [
    "def preprocess(X, y):\n",
    "    X_temp = np.hstack((-np.ones((X.shape[0], 1)), X))\n",
    "    X_preprocessed = np.where(y == 0, -X_temp, X_temp)\n",
    "    return X_preprocessed"
   ]
  },
  {
   "cell_type": "code",
   "execution_count": null,
   "metadata": {},
   "outputs": [],
   "source": [
    "X_preprocessed = preprocess(X, y)\n",
    "X_preprocessed"
   ]
  },
  {
   "cell_type": "code",
   "execution_count": null,
   "metadata": {},
   "outputs": [],
   "source": [
    "def perceptron(X_preprocessed, max_iter=1000):\n",
    "\n",
    "    W = np.random.rand(3, 1)\n",
    "    iter_no = 0\n",
    "    while iter_no < max_iter:\n",
    "        num_errors = 0\n",
    "        for row in X_preprocessed:\n",
    "            if np.dot(row, W) <= 0:\n",
    "                num_errors += 1\n",
    "                W += row.reshape(-1, 1)\n",
    "        if num_errors == 0:\n",
    "            break\n",
    "        iter_no += 1\n",
    "\n",
    "    if iter_no == max_iter:\n",
    "        print(\"The algorithm did not converge\")\n",
    "    else:\n",
    "        print(\"The algorithm converged in {} iterations\".format(iter_no))\n",
    "    return W"
   ]
  },
  {
   "cell_type": "code",
   "execution_count": null,
   "metadata": {},
   "outputs": [],
   "source": [
    "W = perceptron(X_preprocessed)\n",
    "W"
   ]
  },
  {
   "cell_type": "code",
   "execution_count": null,
   "metadata": {},
   "outputs": [],
   "source": [
    "plot_decision_boundary(X, y, W)"
   ]
  },
  {
   "cell_type": "code",
   "execution_count": null,
   "metadata": {},
   "outputs": [],
   "source": [
    "def sigmoid(x):\n",
    "    return 1 / (1 + np.exp(-x))"
   ]
  },
  {
   "cell_type": "code",
   "execution_count": null,
   "metadata": {},
   "outputs": [],
   "source": [
    "def preprocess_sigmoid(X, y):\n",
    "    X_preprocessed = np.hstack((-np.ones((X.shape[0], 1)), X))\n",
    "    return X_preprocessed"
   ]
  },
  {
   "cell_type": "code",
   "execution_count": null,
   "metadata": {},
   "outputs": [],
   "source": [
    "X_preprocessed_sigmoid = preprocess_sigmoid(X, y)\n",
    "X_preprocessed_sigmoid"
   ]
  },
  {
   "cell_type": "code",
   "execution_count": null,
   "metadata": {},
   "outputs": [],
   "source": [
    "def perceptron_sigmoid_mse(X_preprocessed, epochs=10000, lr=0.01):\n",
    "    W = np.random.rand(3, 1)\n",
    "    for epoch in range(epochs):\n",
    "        for i in range(X_preprocessed.shape[0]):\n",
    "            row = X_preprocessed[i]\n",
    "            y_true = y[i]\n",
    "            y_pred = sigmoid(np.dot(row, W))\n",
    "            error = y_pred - y_true\n",
    "            W -= lr * error * row.reshape(-1, 1) * y_pred * (1 - y_pred)\n",
    "    return W"
   ]
  },
  {
   "cell_type": "code",
   "execution_count": null,
   "metadata": {},
   "outputs": [],
   "source": [
    "W = perceptron_sigmoid_mse(X_preprocessed_sigmoid)\n",
    "W"
   ]
  },
  {
   "cell_type": "code",
   "execution_count": null,
   "metadata": {},
   "outputs": [],
   "source": [
    "plot_decision_boundary(X, y, W)"
   ]
  },
  {
   "cell_type": "code",
   "execution_count": null,
   "metadata": {},
   "outputs": [],
   "source": [
    "def perceptron_sigmoid_bce(X_preprocessed, epochs=10000, lr=0.1):\n",
    "    W = np.random.rand(3, 1)\n",
    "    for epoch in range(epochs):\n",
    "        for i in range(X_preprocessed.shape[0]):\n",
    "            row = X_preprocessed[i]\n",
    "            y_true = y[i]\n",
    "            y_pred = sigmoid(np.dot(row, W))\n",
    "            error = y_pred - y_true\n",
    "            W -= lr * error * row.reshape(-1, 1)\n",
    "    return W"
   ]
  },
  {
   "cell_type": "code",
   "execution_count": null,
   "metadata": {},
   "outputs": [],
   "source": [
    "W = perceptron_sigmoid_bce(X_preprocessed_sigmoid)\n",
    "W"
   ]
  },
  {
   "cell_type": "code",
   "execution_count": null,
   "metadata": {},
   "outputs": [],
   "source": [
    "plot_decision_boundary(X, y, W)"
   ]
  }
 ],
 "metadata": {
  "kernelspec": {
   "display_name": "Python 3",
   "language": "python",
   "name": "python3"
  },
  "language_info": {
   "codemirror_mode": {
    "name": "ipython",
    "version": 3
   },
   "file_extension": ".py",
   "mimetype": "text/x-python",
   "name": "python",
   "nbconvert_exporter": "python",
   "pygments_lexer": "ipython3",
   "version": "3.11.6"
  }
 },
 "nbformat": 4,
 "nbformat_minor": 2
}
